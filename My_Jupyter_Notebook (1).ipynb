{
  "metadata": {
    "language_info": {
      "codemirror_mode": {
        "name": "python",
        "version": 3
      },
      "file_extension": ".py",
      "mimetype": "text/x-python",
      "name": "python",
      "nbconvert_exporter": "python",
      "pygments_lexer": "ipython3",
      "version": "3.8"
    },
    "kernelspec": {
      "name": "python",
      "display_name": "Pyolite",
      "language": "python"
    }
  },
  "nbformat_minor": 4,
  "nbformat": 4,
  "cells": [
    {
      "cell_type": "markdown",
      "source": "# My Jupyter Notebook on IBM Watson Studio",
      "metadata": {}
    },
    {
      "cell_type": "markdown",
      "source": "**Phil Myers**",
      "metadata": {
        "tags": []
      }
    },
    {
      "cell_type": "markdown",
      "source": "Data Scientist",
      "metadata": {}
    },
    {
      "cell_type": "markdown",
      "source": "*I am interested in data science because of the analytical approach to problem solving*",
      "metadata": {}
    },
    {
      "cell_type": "markdown",
      "source": "## This code multiplies 3 and 5",
      "metadata": {}
    },
    {
      "cell_type": "code",
      "source": "3 * 5",
      "metadata": {
        "trusted": true
      },
      "execution_count": 5,
      "outputs": [
        {
          "execution_count": 5,
          "output_type": "execute_result",
          "data": {
            "text/plain": "15"
          },
          "metadata": {}
        }
      ]
    },
    {
      "cell_type": "markdown",
      "source": "[Link to Google](http://www.google.com)",
      "metadata": {}
    },
    {
      "cell_type": "markdown",
      "source": "1. 15\n2. Fifteen\n3. XV",
      "metadata": {}
    },
    {
      "cell_type": "markdown",
      "source": "| Name | City | Job |\n| --- | --- | --- |\n| Bob | Chicago | Bank |\n| Lisa | Las Vegas | Casino |",
      "metadata": {}
    },
    {
      "cell_type": "code",
      "source": "",
      "metadata": {},
      "execution_count": null,
      "outputs": []
    }
  ]
}